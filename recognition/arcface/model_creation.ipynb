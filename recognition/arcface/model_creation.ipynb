{
 "cells": [
  {
   "cell_type": "code",
   "execution_count": null,
   "id": "01afa8e9-2970-4e57-85ca-1ae5ef81a973",
   "metadata": {},
   "outputs": [],
   "source": [
    "import torch\n",
    "from torch import nn\n",
    "from torch.nn import functional as F\n",
    "from torchvision.models import resnet18, resnet34, resnet50, resnet101"
   ]
  },
  {
   "cell_type": "code",
   "execution_count": null,
   "id": "8385b09f-b64d-4d8e-9c7a-2b117acee038",
   "metadata": {},
   "outputs": [],
   "source": [
    "class arcface_classifier(torch.nn.Module):\n",
    "    def __init__(self, n_classes, margin, radius, model_type, embedding_dimension=2):\n",
    "        super(arcface_classifier, self).__init__()\n",
    "\n",
    "        # Create attributes\n",
    "        self.classes = n_classes\n",
    "        self.margin = margin\n",
    "        self.radius = radius\n",
    "        self.embed_dimension = embedding_dimension\n",
    "        \n",
    "        # Get the backbone and corresponding embed dimension of the same\n",
    "        self.backbone, in_feats = self.get_backbone(model_type)\n",
    "\n",
    "        # Modify the fully connected layer of the backbone to project in a smaller dimension\n",
    "        self.backbone.fc = nn.Linear(\n",
    "            in_features=in_feats, out_features=embedding_dimension\n",
    "        )\n",
    "        self.bn = nn.BatchNorm1d(embedding_dimension)\n",
    "\n",
    "        # Classification layer\n",
    "        self.weight = nn.Parameter(torch.FloatTensor(n_classes, embedding_dimension))\n",
    "        nn.init.xavier_uniform_(self.weight)\n",
    "    \n",
    "    def get_backbone(self, model_type):\n",
    "        # Projection Layers\n",
    "        if model_type == \"resnet18\":\n",
    "            backbone = resnet18(); in_feats = 512\n",
    "        elif model_type == \"resnet34\":\n",
    "            backbone = resnet34(); in_feats = 512\n",
    "        elif model_type == \"resnet50\":\n",
    "            backbone = resnet50(); in_feats = 2048\n",
    "        elif model_type == \"resnet101\":\n",
    "            backbone = resnet101(); in_feats = 2048\n",
    "        return backbone, in_feats\n",
    "\n",
    "    def get_embedding(self, x):\n",
    "        # Pass through the backbone and normalize the output\n",
    "        res_output = self.backbone(x)\n",
    "        normed_output = self.bn(res_output)\n",
    "        return res_output, normed_output\n",
    "\n",
    "    def adjust_angles(self, cosine, labels):\n",
    "        # Ensure that the cosines are in the valid range of -1 to 1 and take an arccos to obtain the angle\n",
    "        print(cosine)\n",
    "        arc_cos = torch.clamp(cosine, -1, 1).arccos()\n",
    "\n",
    "        # Extract the target angles separately\n",
    "        batch_size = len(labels)\n",
    "        target_angles = arc_cos[list(range(batch_size)), labels]\n",
    "        new_target_angles = torch.clamp(target_angles + self.margin, 0, torch.pi)\n",
    "\n",
    "        # Add the margin to the target angles\n",
    "        arc_cos[list(range(batch_size)), labels] = new_target_angles\n",
    "        cosine = arc_cos.cos()\n",
    "        return cosine\n",
    "\n",
    "    def forward(self, x, labels=None):\n",
    "        # Extract the batch normed embedding\n",
    "        _, embed = self.get_embedding(x)\n",
    "\n",
    "        # Get the logit value\n",
    "        logits = F.linear(F.normalize(embed), F.normalize(self.weight))\n",
    "        print(\"LOGITS\\n\", logits)\n",
    "\n",
    "        # If labels are provided then add the margin to angle between respective\n",
    "        # target center and embedding\n",
    "        if labels is not None: logits = self.adjust_angles(logits, labels)\n",
    "\n",
    "        # Project the result on a sphere of set radius and return the logits\n",
    "        return self.radius * logits"
   ]
  },
  {
   "cell_type": "code",
   "execution_count": null,
   "id": "7c2d6066-0ced-4e78-9bd5-b95a13e08816",
   "metadata": {},
   "outputs": [
    {
     "data": {
      "text/plain": [
       "torch.Size([10, 24])"
      ]
     },
     "execution_count": null,
     "metadata": {},
     "output_type": "execute_result"
    }
   ],
   "source": [
    "t = torch.randn(10, 3, 112, 112)\n",
    "\n",
    "m = arcface_classifier(\n",
    "    n_classes=24, margin=0.5, radius=10, model_type = \"resnet50\", embedding_dimension=70\n",
    ")\n",
    "\n",
    "import random\n",
    "labels = torch.tensor([random.randint(1, 5) for i in range(10)])\n",
    "\n",
    "m(t, labels).shape"
   ]
  },
  {
   "cell_type": "code",
   "execution_count": null,
   "id": "8f423aaa-43b3-4d2d-8d9f-138394890162",
   "metadata": {},
   "outputs": [
    {
     "data": {
      "text/plain": [
       "tensor(False)"
      ]
     },
     "execution_count": null,
     "metadata": {},
     "output_type": "execute_result"
    }
   ],
   "source": [
    "import numpy as np\n",
    "torch.all(torch.tensor([np.nan, 0, 1]))"
   ]
  }
 ],
 "metadata": {
  "kernelspec": {
   "display_name": "Python 3 (ipykernel)",
   "language": "python",
   "name": "python3"
  }
 },
 "nbformat": 4,
 "nbformat_minor": 5
}
